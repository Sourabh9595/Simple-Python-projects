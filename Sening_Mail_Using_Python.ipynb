{
 "cells": [
  {
   "cell_type": "code",
   "execution_count": 14,
   "id": "a38da7f6",
   "metadata": {},
   "outputs": [
    {
     "name": "stdout",
     "output_type": "stream",
     "text": [
      "login Success\n",
      "Mail has been sent succefully to  datta847@gmail.com\n"
     ]
    }
   ],
   "source": [
    "import smtplib\n",
    "sender_mail=\"xyz@gmail.com\"\n",
    "receiver_mail=\"datta847@gmail.com\"\n",
    "password=\"\"// Create an app password using your google account\n",
    "message=\"This is message sent using pyhton\"\n",
    "server=smtplib.SMTP('smtp.gmail.com',587)\n",
    "server.starttls()\n",
    "server.login(sender_mail,password)\n",
    "print(\"login Success\")\n",
    "server.sendmail(sender_mail,receiver_mail,message)\n",
    "print(\"Mail has been sent succefully to \", receiver_mail)"
   ]
  },
  {
   "cell_type": "code",
   "execution_count": null,
   "id": "40e6c711",
   "metadata": {},
   "outputs": [],
   "source": []
  }
 ],
 "metadata": {
  "kernelspec": {
   "display_name": "Python 3",
   "language": "python",
   "name": "python3"
  },
  "language_info": {
   "codemirror_mode": {
    "name": "ipython",
    "version": 3
   },
   "file_extension": ".py",
   "mimetype": "text/x-python",
   "name": "python",
   "nbconvert_exporter": "python",
   "pygments_lexer": "ipython3",
   "version": "3.7.5"
  }
 },
 "nbformat": 4,
 "nbformat_minor": 5
}
